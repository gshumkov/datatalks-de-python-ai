{
 "cells": [
  {
   "cell_type": "code",
   "execution_count": null,
   "id": "initial_id",
   "metadata": {
    "collapsed": true
   },
   "outputs": [],
   "source": [
    "import dlt\n",
    "from dlt.sources.helpers.rest_client import RESTClient\n",
    "from dlt.sources.helpers.rest_client.auth import BearerTokenAuth\n",
    "from dlt.sources.helpers.rest_client.paginators import HeaderLinkPaginator\n",
    "\n",
    "events_data = []\n",
    "\n",
    "@dlt.resource(name=\"events\")\n",
    "def paginated_getter(\n",
    "        access_token=dlt.secrets.value\n",
    "):\n",
    "    client = RESTClient(\n",
    "        base_url=\"https://api.github.com/repos/DataTalksClub/data-engineering-zoomcamp/\",\n",
    "        auth=BearerTokenAuth(token=access_token),\n",
    "        paginator=HeaderLinkPaginator(links_next_key=\"next\")\n",
    "    )\n",
    "\n",
    "    for page in client.paginate(\"events\"):\n",
    "        yield page\n",
    "\n",
    "\n",
    "for page_data in paginated_getter():\n",
    "    events_data.append(page_data)\n",
    "    print(page_data)"
   ]
  },
  {
   "cell_type": "code",
   "execution_count": null,
   "outputs": [],
   "source": [
    "import dlt\n",
    "\n",
    "pipeline = dlt.pipeline(\n",
    "    pipeline_name=\"github_data\",\n",
    "    destination=\"duckdb\",\n",
    "    dataset_name=\"events\"\n",
    ")\n",
    "\n",
    "info = pipeline.run(paginated_getter, table_name=\"events\", write_disposition=\"replace\")"
   ],
   "metadata": {
    "collapsed": false
   },
   "id": "8c362b30f50947d"
  },
  {
   "cell_type": "code",
   "execution_count": null,
   "outputs": [],
   "source": [
    "print(pipeline.dataset(dataset_type=\"default\").schema.data_table_names())\n",
    "print(pipeline.dataset(dataset_type=\"default\").schema)"
   ],
   "metadata": {
    "collapsed": false
   },
   "id": "3b8238c8e4575314"
  },
  {
   "cell_type": "code",
   "execution_count": null,
   "outputs": [],
   "source": [
    "import numpy as np\n",
    "import pandas as pd\n",
    "pipeline.dataset(dataset_type=\"default\").events.df()"
   ],
   "metadata": {
    "collapsed": false
   },
   "id": "66339eb08f1b3a91"
  },
  {
   "cell_type": "code",
   "execution_count": null,
   "outputs": [],
   "source": [
    "pipeline.dataset(dataset_type=\"default\").events__payload__pull_request__base__repo__topics.df()"
   ],
   "metadata": {
    "collapsed": false
   },
   "id": "946f33bd3ebfa7af"
  },
  {
   "cell_type": "code",
   "execution_count": null,
   "outputs": [],
   "source": [
    "sql = \"\"\"\n",
    "select * \n",
    "from events e \n",
    "join events__payload__pull_request__base__repo__topics c\n",
    "on e._dlt_id = c._dlt_parent_id\n",
    "\"\"\"\n",
    "\n",
    "with pipeline.sql_client() as client:\n",
    "    with client.execute_query(sql) as cursor:\n",
    "        data = cursor.df()\n",
    "        \n",
    "data"
   ],
   "metadata": {
    "collapsed": false
   },
   "id": "1b14cec25efb3807"
  },
  {
   "cell_type": "code",
   "execution_count": null,
   "outputs": [],
   "source": [
    "print(pipeline.default_schema.to_pretty_yaml())"
   ],
   "metadata": {
    "collapsed": false
   },
   "id": "ba69762428a415f7"
  },
  {
   "cell_type": "code",
   "execution_count": null,
   "outputs": [],
   "source": [
    "import dlt\n",
    "from dlt.sources.helpers.rest_client import RESTClient\n",
    "from dlt.sources.helpers.rest_client.auth import BearerTokenAuth\n",
    "from dlt.sources.helpers.rest_client.paginators import HeaderLinkPaginator\n",
    "\n",
    "@dlt.resource(\n",
    "    name=\"events\",\n",
    "    schema_contract={\n",
    "        \"tables\": \"evolve\",\n",
    "        \"columns\": \"freeze\",\n",
    "        \"data_type\": \"evolve\"\n",
    "    }\n",
    ")\n",
    "def paginated_getter(\n",
    "        access_token=dlt.secrets.value\n",
    "):\n",
    "    client = RESTClient(\n",
    "        base_url=\"https://api.github.com/repos/DataTalksClub/data-engineering-zoomcamp/\",\n",
    "        auth=BearerTokenAuth(token=access_token),\n",
    "        paginator=HeaderLinkPaginator(links_next_key=\"next\")\n",
    "    )\n",
    "\n",
    "    for page in client.paginate(\"/events\"):\n",
    "        for record in page:\n",
    "            yield record\n",
    "            \n",
    "contract_pipeline = dlt.pipeline(\n",
    "    pipeline_name=\"github_data_contract\",\n",
    "    destination=\"duckdb\",\n",
    "    dataset_name=\"events_contract\"\n",
    ")\n",
    "\n",
    "contract_info = contract_pipeline.run(paginated_getter(), table_name=\"contract_events\", write_disposition=\"replace\")\n",
    "\n",
    "print(contract_info)"
   ],
   "metadata": {
    "collapsed": false
   },
   "id": "326eb71eea30c658"
  },
  {
   "cell_type": "code",
   "execution_count": null,
   "outputs": [],
   "source": [
    "import dlt\n",
    "from dlt.sources.helpers.rest_client import RESTClient\n",
    "from dlt.sources.helpers.rest_client.auth import BearerTokenAuth\n",
    "from dlt.sources.helpers.rest_client.paginators import HeaderLinkPaginator\n",
    "\n",
    "@dlt.resource(\n",
    "    name=\"events\"\n",
    ")\n",
    "def evolved_paginated_getter(\n",
    "        access_token=dlt.secrets.value\n",
    "):\n",
    "    client = RESTClient(\n",
    "        base_url=\"https://api.github.com/repos/DataTalksClub/data-engineering-zoomcamp/\",\n",
    "        auth=BearerTokenAuth(token=access_token),\n",
    "        paginator=HeaderLinkPaginator(links_next_key=\"next\")\n",
    "    )\n",
    "\n",
    "    for page in client.paginate(\"/events\"):\n",
    "        yield page\n",
    "\n",
    "evolved_pipeline = dlt.pipeline(\n",
    "    pipeline_name=\"github_data_evolved\",\n",
    "    destination=\"duckdb\",\n",
    "    dataset_name=\"evolved_events\"\n",
    ")\n",
    "\n",
    "load_info = evolved_pipeline.run(evolved_paginated_getter(), table_name=\"events\", write_disposition=\"replace\")\n",
    "\n",
    "for package in load_info.load_packages:\n",
    "    for table_name, table in package.schema_update.items():\n",
    "        for column_name, column in table[\"columns\"].items():\n",
    "            print(column_name, column, table)"
   ],
   "metadata": {
    "collapsed": false
   },
   "id": "48827e2abd3f6a0f"
  },
  {
   "cell_type": "code",
   "execution_count": null,
   "outputs": [],
   "source": [
    "import dlt\n",
    "from dlt.sources.helpers.rest_client import RESTClient\n",
    "from dlt.sources.helpers.rest_client.auth import BearerTokenAuth\n",
    "from dlt.sources.helpers.rest_client.paginators import HeaderLinkPaginator\n",
    "\n",
    "@dlt.resource(\n",
    "    name=\"events\",\n",
    "    write_disposition=\"replace\"\n",
    ")\n",
    "def paginated_getter(\n",
    "        access_token=dlt.secrets.value\n",
    "):\n",
    "    client = RESTClient(\n",
    "        base_url=\"https://api.github.com/repos/DataTalksClub/data-engineering-zoomcamp/\",\n",
    "        auth=BearerTokenAuth(token=access_token),\n",
    "        paginator=HeaderLinkPaginator(links_next_key=\"next\")\n",
    "    )\n",
    "\n",
    "    for page in client.paginate(\"/events\"):\n",
    "        yield page\n",
    "\n",
    "pipeline = dlt.pipeline(\n",
    "    pipeline_name=\"github_pipeline\",\n",
    "    destination=\"duckdb\",\n",
    "    dataset_name=\"events_dataset\"\n",
    ")\n",
    "\n",
    "load_info = pipeline.run(paginated_getter())\n",
    "\n",
    "pipeline.dataset(dataset_type=\"default\").events.df()"
   ],
   "metadata": {
    "collapsed": false
   },
   "id": "80bec0763883cadb"
  },
  {
   "cell_type": "code",
   "execution_count": 1,
   "outputs": [
    {
     "name": "stderr",
     "output_type": "stream",
     "text": [
      "/opt/homebrew/Caskroom/miniconda/base/envs/datatalks-de-python-ai/lib/python3.11/site-packages/dlt/helpers/dbt/__init__.py:3: UserWarning: pkg_resources is deprecated as an API. See https://setuptools.pypa.io/en/latest/pkg_resources.html. The pkg_resources package is slated for removal as early as 2025-11-30. Refrain from using this package or pin to Setuptools<81.\n",
      "  import pkg_resources\n",
      "2025-07-10 14:13:44,978|[WARNING]|14810|8431804160|dlt|configuration.py|_path_from_pipeline:178|Duckdb attached to pipeline github_pipeline in path github_pipeline.duckdb was could not be found but pipeline has already ran. This may be a result of (1) recreating or attaching pipeline  without or with changed explicit path to database that was used when creating the pipeline. (2) keeping the path to to database in secrets and changing the current working folder so  dlt cannot see them. (3) you deleting the database.\n"
     ]
    },
    {
     "name": "stdout",
     "output_type": "stream",
     "text": [
      "Pipeline github_pipeline load step completed in 0.34 seconds\n",
      "1 load package(s) were loaded to destination duckdb and into dataset events_dataset2\n",
      "The duckdb destination used duckdb:////Users/su4ilische/src/datatalks.club/datatalks-de-python-ai/github_pipeline.duckdb location to store data\n",
      "Load package 1752146025.0642612 is LOADED and contains no failed jobs\n"
     ]
    },
    {
     "data": {
      "text/plain": "              id        type  actor__id      actor__login  \\\n0    51891923624  WatchEvent  182100393           httpmei   \n1    51889549884  WatchEvent   58702367      Rajesh-B-Git   \n2    51888295485   ForkEvent   26826719         arturcast   \n3    51886447209  WatchEvent  152605325           Ace1169   \n4    51883889505  WatchEvent   77841911  maureen-githaiga   \n..           ...         ...        ...               ...   \n278  51448186304   ForkEvent   75666702        justin2268   \n279  51447915485  WatchEvent   93468890     KungChinYeung   \n280  51447906875   ForkEvent  101667042            Sdossy   \n281  51447712126  WatchEvent   82459963       smilewendy7   \n282  51447588426  WatchEvent  211292444   yesubabumeegada   \n\n    actor__display_login actor__gravatar_id  \\\n0                httpmei                      \n1           Rajesh-B-Git                      \n2              arturcast                      \n3                Ace1169                      \n4       maureen-githaiga                      \n..                   ...                ...   \n278           justin2268                      \n279        KungChinYeung                      \n280               Sdossy                      \n281          smilewendy7                      \n282      yesubabumeegada                      \n\n                                        actor__url  \\\n0             https://api.github.com/users/httpmei   \n1        https://api.github.com/users/Rajesh-B-Git   \n2           https://api.github.com/users/arturcast   \n3             https://api.github.com/users/Ace1169   \n4    https://api.github.com/users/maureen-githaiga   \n..                                             ...   \n278        https://api.github.com/users/justin2268   \n279     https://api.github.com/users/KungChinYeung   \n280            https://api.github.com/users/Sdossy   \n281       https://api.github.com/users/smilewendy7   \n282   https://api.github.com/users/yesubabumeegada   \n\n                                     actor__avatar_url   repo__id  \\\n0    https://avatars.githubusercontent.com/u/182100...  419661684   \n1    https://avatars.githubusercontent.com/u/58702367?  419661684   \n2    https://avatars.githubusercontent.com/u/26826719?  419661684   \n3    https://avatars.githubusercontent.com/u/152605...  419661684   \n4    https://avatars.githubusercontent.com/u/77841911?  419661684   \n..                                                 ...        ...   \n278  https://avatars.githubusercontent.com/u/75666702?  419661684   \n279  https://avatars.githubusercontent.com/u/93468890?  419661684   \n280  https://avatars.githubusercontent.com/u/101667...  419661684   \n281  https://avatars.githubusercontent.com/u/82459963?  419661684   \n282  https://avatars.githubusercontent.com/u/211292...  419661684   \n\n                                  repo__name  ...  \\\n0    DataTalksClub/data-engineering-zoomcamp  ...   \n1    DataTalksClub/data-engineering-zoomcamp  ...   \n2    DataTalksClub/data-engineering-zoomcamp  ...   \n3    DataTalksClub/data-engineering-zoomcamp  ...   \n4    DataTalksClub/data-engineering-zoomcamp  ...   \n..                                       ...  ...   \n278  DataTalksClub/data-engineering-zoomcamp  ...   \n279  DataTalksClub/data-engineering-zoomcamp  ...   \n280  DataTalksClub/data-engineering-zoomcamp  ...   \n281  DataTalksClub/data-engineering-zoomcamp  ...   \n282  DataTalksClub/data-engineering-zoomcamp  ...   \n\n    payload__pull_request__author_association payload__pull_request__merged  \\\n0                                        None                          <NA>   \n1                                        None                          <NA>   \n2                                        None                          <NA>   \n3                                        None                          <NA>   \n4                                        None                          <NA>   \n..                                        ...                           ...   \n278                                      None                          <NA>   \n279                                      None                          <NA>   \n280                                      None                          <NA>   \n281                                      None                          <NA>   \n282                                      None                          <NA>   \n\n     payload__pull_request__mergeable_state payload__pull_request__comments  \\\n0                                      None                            <NA>   \n1                                      None                            <NA>   \n2                                      None                            <NA>   \n3                                      None                            <NA>   \n4                                      None                            <NA>   \n..                                      ...                             ...   \n278                                    None                            <NA>   \n279                                    None                            <NA>   \n280                                    None                            <NA>   \n281                                    None                            <NA>   \n282                                    None                            <NA>   \n\n     payload__pull_request__review_comments  \\\n0                                      <NA>   \n1                                      <NA>   \n2                                      <NA>   \n3                                      <NA>   \n4                                      <NA>   \n..                                      ...   \n278                                    <NA>   \n279                                    <NA>   \n280                                    <NA>   \n281                                    <NA>   \n282                                    <NA>   \n\n    payload__pull_request__maintainer_can_modify  \\\n0                                           <NA>   \n1                                           <NA>   \n2                                           <NA>   \n3                                           <NA>   \n4                                           <NA>   \n..                                           ...   \n278                                         <NA>   \n279                                         <NA>   \n280                                         <NA>   \n281                                         <NA>   \n282                                         <NA>   \n\n    payload__pull_request__commits payload__pull_request__additions  \\\n0                             <NA>                             <NA>   \n1                             <NA>                             <NA>   \n2                             <NA>                             <NA>   \n3                             <NA>                             <NA>   \n4                             <NA>                             <NA>   \n..                             ...                              ...   \n278                           <NA>                             <NA>   \n279                           <NA>                             <NA>   \n280                           <NA>                             <NA>   \n281                           <NA>                             <NA>   \n282                           <NA>                             <NA>   \n\n    payload__pull_request__deletions payload__pull_request__changed_files  \n0                               <NA>                                 <NA>  \n1                               <NA>                                 <NA>  \n2                               <NA>                                 <NA>  \n3                               <NA>                                 <NA>  \n4                               <NA>                                 <NA>  \n..                               ...                                  ...  \n278                             <NA>                                 <NA>  \n279                             <NA>                                 <NA>  \n280                             <NA>                                 <NA>  \n281                             <NA>                                 <NA>  \n282                             <NA>                                 <NA>  \n\n[283 rows x 405 columns]",
      "text/html": "<div>\n<style scoped>\n    .dataframe tbody tr th:only-of-type {\n        vertical-align: middle;\n    }\n\n    .dataframe tbody tr th {\n        vertical-align: top;\n    }\n\n    .dataframe thead th {\n        text-align: right;\n    }\n</style>\n<table border=\"1\" class=\"dataframe\">\n  <thead>\n    <tr style=\"text-align: right;\">\n      <th></th>\n      <th>id</th>\n      <th>type</th>\n      <th>actor__id</th>\n      <th>actor__login</th>\n      <th>actor__display_login</th>\n      <th>actor__gravatar_id</th>\n      <th>actor__url</th>\n      <th>actor__avatar_url</th>\n      <th>repo__id</th>\n      <th>repo__name</th>\n      <th>...</th>\n      <th>payload__pull_request__author_association</th>\n      <th>payload__pull_request__merged</th>\n      <th>payload__pull_request__mergeable_state</th>\n      <th>payload__pull_request__comments</th>\n      <th>payload__pull_request__review_comments</th>\n      <th>payload__pull_request__maintainer_can_modify</th>\n      <th>payload__pull_request__commits</th>\n      <th>payload__pull_request__additions</th>\n      <th>payload__pull_request__deletions</th>\n      <th>payload__pull_request__changed_files</th>\n    </tr>\n  </thead>\n  <tbody>\n    <tr>\n      <th>0</th>\n      <td>51891923624</td>\n      <td>WatchEvent</td>\n      <td>182100393</td>\n      <td>httpmei</td>\n      <td>httpmei</td>\n      <td></td>\n      <td>https://api.github.com/users/httpmei</td>\n      <td>https://avatars.githubusercontent.com/u/182100...</td>\n      <td>419661684</td>\n      <td>DataTalksClub/data-engineering-zoomcamp</td>\n      <td>...</td>\n      <td>None</td>\n      <td>&lt;NA&gt;</td>\n      <td>None</td>\n      <td>&lt;NA&gt;</td>\n      <td>&lt;NA&gt;</td>\n      <td>&lt;NA&gt;</td>\n      <td>&lt;NA&gt;</td>\n      <td>&lt;NA&gt;</td>\n      <td>&lt;NA&gt;</td>\n      <td>&lt;NA&gt;</td>\n    </tr>\n    <tr>\n      <th>1</th>\n      <td>51889549884</td>\n      <td>WatchEvent</td>\n      <td>58702367</td>\n      <td>Rajesh-B-Git</td>\n      <td>Rajesh-B-Git</td>\n      <td></td>\n      <td>https://api.github.com/users/Rajesh-B-Git</td>\n      <td>https://avatars.githubusercontent.com/u/58702367?</td>\n      <td>419661684</td>\n      <td>DataTalksClub/data-engineering-zoomcamp</td>\n      <td>...</td>\n      <td>None</td>\n      <td>&lt;NA&gt;</td>\n      <td>None</td>\n      <td>&lt;NA&gt;</td>\n      <td>&lt;NA&gt;</td>\n      <td>&lt;NA&gt;</td>\n      <td>&lt;NA&gt;</td>\n      <td>&lt;NA&gt;</td>\n      <td>&lt;NA&gt;</td>\n      <td>&lt;NA&gt;</td>\n    </tr>\n    <tr>\n      <th>2</th>\n      <td>51888295485</td>\n      <td>ForkEvent</td>\n      <td>26826719</td>\n      <td>arturcast</td>\n      <td>arturcast</td>\n      <td></td>\n      <td>https://api.github.com/users/arturcast</td>\n      <td>https://avatars.githubusercontent.com/u/26826719?</td>\n      <td>419661684</td>\n      <td>DataTalksClub/data-engineering-zoomcamp</td>\n      <td>...</td>\n      <td>None</td>\n      <td>&lt;NA&gt;</td>\n      <td>None</td>\n      <td>&lt;NA&gt;</td>\n      <td>&lt;NA&gt;</td>\n      <td>&lt;NA&gt;</td>\n      <td>&lt;NA&gt;</td>\n      <td>&lt;NA&gt;</td>\n      <td>&lt;NA&gt;</td>\n      <td>&lt;NA&gt;</td>\n    </tr>\n    <tr>\n      <th>3</th>\n      <td>51886447209</td>\n      <td>WatchEvent</td>\n      <td>152605325</td>\n      <td>Ace1169</td>\n      <td>Ace1169</td>\n      <td></td>\n      <td>https://api.github.com/users/Ace1169</td>\n      <td>https://avatars.githubusercontent.com/u/152605...</td>\n      <td>419661684</td>\n      <td>DataTalksClub/data-engineering-zoomcamp</td>\n      <td>...</td>\n      <td>None</td>\n      <td>&lt;NA&gt;</td>\n      <td>None</td>\n      <td>&lt;NA&gt;</td>\n      <td>&lt;NA&gt;</td>\n      <td>&lt;NA&gt;</td>\n      <td>&lt;NA&gt;</td>\n      <td>&lt;NA&gt;</td>\n      <td>&lt;NA&gt;</td>\n      <td>&lt;NA&gt;</td>\n    </tr>\n    <tr>\n      <th>4</th>\n      <td>51883889505</td>\n      <td>WatchEvent</td>\n      <td>77841911</td>\n      <td>maureen-githaiga</td>\n      <td>maureen-githaiga</td>\n      <td></td>\n      <td>https://api.github.com/users/maureen-githaiga</td>\n      <td>https://avatars.githubusercontent.com/u/77841911?</td>\n      <td>419661684</td>\n      <td>DataTalksClub/data-engineering-zoomcamp</td>\n      <td>...</td>\n      <td>None</td>\n      <td>&lt;NA&gt;</td>\n      <td>None</td>\n      <td>&lt;NA&gt;</td>\n      <td>&lt;NA&gt;</td>\n      <td>&lt;NA&gt;</td>\n      <td>&lt;NA&gt;</td>\n      <td>&lt;NA&gt;</td>\n      <td>&lt;NA&gt;</td>\n      <td>&lt;NA&gt;</td>\n    </tr>\n    <tr>\n      <th>...</th>\n      <td>...</td>\n      <td>...</td>\n      <td>...</td>\n      <td>...</td>\n      <td>...</td>\n      <td>...</td>\n      <td>...</td>\n      <td>...</td>\n      <td>...</td>\n      <td>...</td>\n      <td>...</td>\n      <td>...</td>\n      <td>...</td>\n      <td>...</td>\n      <td>...</td>\n      <td>...</td>\n      <td>...</td>\n      <td>...</td>\n      <td>...</td>\n      <td>...</td>\n      <td>...</td>\n    </tr>\n    <tr>\n      <th>278</th>\n      <td>51448186304</td>\n      <td>ForkEvent</td>\n      <td>75666702</td>\n      <td>justin2268</td>\n      <td>justin2268</td>\n      <td></td>\n      <td>https://api.github.com/users/justin2268</td>\n      <td>https://avatars.githubusercontent.com/u/75666702?</td>\n      <td>419661684</td>\n      <td>DataTalksClub/data-engineering-zoomcamp</td>\n      <td>...</td>\n      <td>None</td>\n      <td>&lt;NA&gt;</td>\n      <td>None</td>\n      <td>&lt;NA&gt;</td>\n      <td>&lt;NA&gt;</td>\n      <td>&lt;NA&gt;</td>\n      <td>&lt;NA&gt;</td>\n      <td>&lt;NA&gt;</td>\n      <td>&lt;NA&gt;</td>\n      <td>&lt;NA&gt;</td>\n    </tr>\n    <tr>\n      <th>279</th>\n      <td>51447915485</td>\n      <td>WatchEvent</td>\n      <td>93468890</td>\n      <td>KungChinYeung</td>\n      <td>KungChinYeung</td>\n      <td></td>\n      <td>https://api.github.com/users/KungChinYeung</td>\n      <td>https://avatars.githubusercontent.com/u/93468890?</td>\n      <td>419661684</td>\n      <td>DataTalksClub/data-engineering-zoomcamp</td>\n      <td>...</td>\n      <td>None</td>\n      <td>&lt;NA&gt;</td>\n      <td>None</td>\n      <td>&lt;NA&gt;</td>\n      <td>&lt;NA&gt;</td>\n      <td>&lt;NA&gt;</td>\n      <td>&lt;NA&gt;</td>\n      <td>&lt;NA&gt;</td>\n      <td>&lt;NA&gt;</td>\n      <td>&lt;NA&gt;</td>\n    </tr>\n    <tr>\n      <th>280</th>\n      <td>51447906875</td>\n      <td>ForkEvent</td>\n      <td>101667042</td>\n      <td>Sdossy</td>\n      <td>Sdossy</td>\n      <td></td>\n      <td>https://api.github.com/users/Sdossy</td>\n      <td>https://avatars.githubusercontent.com/u/101667...</td>\n      <td>419661684</td>\n      <td>DataTalksClub/data-engineering-zoomcamp</td>\n      <td>...</td>\n      <td>None</td>\n      <td>&lt;NA&gt;</td>\n      <td>None</td>\n      <td>&lt;NA&gt;</td>\n      <td>&lt;NA&gt;</td>\n      <td>&lt;NA&gt;</td>\n      <td>&lt;NA&gt;</td>\n      <td>&lt;NA&gt;</td>\n      <td>&lt;NA&gt;</td>\n      <td>&lt;NA&gt;</td>\n    </tr>\n    <tr>\n      <th>281</th>\n      <td>51447712126</td>\n      <td>WatchEvent</td>\n      <td>82459963</td>\n      <td>smilewendy7</td>\n      <td>smilewendy7</td>\n      <td></td>\n      <td>https://api.github.com/users/smilewendy7</td>\n      <td>https://avatars.githubusercontent.com/u/82459963?</td>\n      <td>419661684</td>\n      <td>DataTalksClub/data-engineering-zoomcamp</td>\n      <td>...</td>\n      <td>None</td>\n      <td>&lt;NA&gt;</td>\n      <td>None</td>\n      <td>&lt;NA&gt;</td>\n      <td>&lt;NA&gt;</td>\n      <td>&lt;NA&gt;</td>\n      <td>&lt;NA&gt;</td>\n      <td>&lt;NA&gt;</td>\n      <td>&lt;NA&gt;</td>\n      <td>&lt;NA&gt;</td>\n    </tr>\n    <tr>\n      <th>282</th>\n      <td>51447588426</td>\n      <td>WatchEvent</td>\n      <td>211292444</td>\n      <td>yesubabumeegada</td>\n      <td>yesubabumeegada</td>\n      <td></td>\n      <td>https://api.github.com/users/yesubabumeegada</td>\n      <td>https://avatars.githubusercontent.com/u/211292...</td>\n      <td>419661684</td>\n      <td>DataTalksClub/data-engineering-zoomcamp</td>\n      <td>...</td>\n      <td>None</td>\n      <td>&lt;NA&gt;</td>\n      <td>None</td>\n      <td>&lt;NA&gt;</td>\n      <td>&lt;NA&gt;</td>\n      <td>&lt;NA&gt;</td>\n      <td>&lt;NA&gt;</td>\n      <td>&lt;NA&gt;</td>\n      <td>&lt;NA&gt;</td>\n      <td>&lt;NA&gt;</td>\n    </tr>\n  </tbody>\n</table>\n<p>283 rows × 405 columns</p>\n</div>"
     },
     "execution_count": 1,
     "metadata": {},
     "output_type": "execute_result"
    }
   ],
   "source": [
    "import dlt\n",
    "from dlt.sources.helpers.rest_client import RESTClient\n",
    "from dlt.sources.helpers.rest_client.auth import BearerTokenAuth\n",
    "from dlt.sources.helpers.rest_client.paginators import HeaderLinkPaginator\n",
    "\n",
    "@dlt.resource(\n",
    "    name=\"events\",\n",
    "    write_disposition=\"append\"\n",
    ")\n",
    "def paginated_getter(\n",
    "        access_token=dlt.secrets.value,\n",
    "        cursor_date=dlt.sources.incremental(\n",
    "            \"created_at\",\n",
    "            initial_value=\"2025-06-28\"\n",
    "        )\n",
    "):\n",
    "    client = RESTClient(\n",
    "        base_url=\"https://api.github.com/repos/DataTalksClub/data-engineering-zoomcamp/\",\n",
    "        auth=BearerTokenAuth(token=access_token),\n",
    "        paginator=HeaderLinkPaginator(links_next_key=\"next\")\n",
    "    )\n",
    "\n",
    "    for page in client.paginate(\"/events\"):\n",
    "        yield page\n",
    "\n",
    "pipeline = dlt.pipeline(\n",
    "    pipeline_name=\"github_pipeline\",\n",
    "    destination=\"duckdb\",\n",
    "    dataset_name=\"events_dataset2\"\n",
    ")\n",
    "\n",
    "load_info = pipeline.run(paginated_getter)\n",
    "\n",
    "print(load_info)\n",
    "pipeline.dataset(dataset_type=\"default\").events.df()"
   ],
   "metadata": {
    "collapsed": false,
    "ExecuteTime": {
     "end_time": "2025-07-10T11:13:50.271266Z",
     "start_time": "2025-07-10T11:13:44.214438Z"
    }
   },
   "id": "f96dbb8ff8ec6692"
  },
  {
   "cell_type": "code",
   "execution_count": 4,
   "outputs": [
    {
     "name": "stdout",
     "output_type": "stream",
     "text": [
      "Pipeline sql_database_example load step completed in 0.71 seconds\n",
      "1 load package(s) were loaded to destination duckdb and into dataset sql_data_20250710020433\n",
      "The duckdb destination used duckdb:////Users/su4ilische/src/datatalks.club/datatalks-de-python-ai/sql_database_example.duckdb location to store data\n",
      "Load package 1752156273.089791 is LOADED and contains no failed jobs\n"
     ]
    }
   ],
   "source": [
    "import dlt\n",
    "from dlt.sources.sql_database import sql_database\n",
    "\n",
    "source = sql_database(\n",
    "    \"mysql+pymysql://rfamro@mysql-rfam-public.ebi.ac.uk:4497/Rfam\",\n",
    "    table_names=[\"family\",]\n",
    ")\n",
    "\n",
    "pipeline = dlt.pipeline(\n",
    "    pipeline_name=\"sql_database_example\",\n",
    "    destination=\"duckdb\",\n",
    "    dataset_name=\"sql_data\",\n",
    "    dev_mode=True\n",
    ")\n",
    "\n",
    "load_info = pipeline.run(source)\n",
    "print(load_info)"
   ],
   "metadata": {
    "collapsed": false,
    "ExecuteTime": {
     "end_time": "2025-07-10T14:04:36.813284Z",
     "start_time": "2025-07-10T14:04:31.966696Z"
    }
   },
   "id": "a23fbfc9dc11d771"
  },
  {
   "cell_type": "code",
   "execution_count": null,
   "outputs": [],
   "source": [],
   "metadata": {
    "collapsed": false
   },
   "id": "ba3c3c6f2f88df58"
  }
 ],
 "metadata": {
  "kernelspec": {
   "display_name": "Python 3",
   "language": "python",
   "name": "python3"
  },
  "language_info": {
   "codemirror_mode": {
    "name": "ipython",
    "version": 2
   },
   "file_extension": ".py",
   "mimetype": "text/x-python",
   "name": "python",
   "nbconvert_exporter": "python",
   "pygments_lexer": "ipython2",
   "version": "2.7.6"
  }
 },
 "nbformat": 4,
 "nbformat_minor": 5
}
